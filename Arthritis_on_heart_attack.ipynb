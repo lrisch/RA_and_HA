{
 "cells": [
  {
   "cell_type": "markdown",
   "metadata": {},
   "source": [
    "## Logistic Regression Model"
   ]
  },
  {
   "cell_type": "code",
   "execution_count": 1,
   "metadata": {},
   "outputs": [],
   "source": [
    "import pandas as pd\n",
    "import numpy as np\n",
    "from sklearn import preprocessing\n",
    "import matplotlib.pyplot as plt \n",
    "plt.rc(\"font\", size=14)\n",
    "import seaborn as sns\n",
    "from sklearn.linear_model import LogisticRegression\n",
    "from sklearn.model_selection import train_test_split"
   ]
  },
  {
   "cell_type": "markdown",
   "metadata": {},
   "source": [
    "Read provided data from CVS-file and drop the first columns with ID's"
   ]
  },
  {
   "cell_type": "code",
   "execution_count": 2,
   "metadata": {},
   "outputs": [
    {
     "name": "stdout",
     "output_type": "stream",
     "text": [
      "(3788, 15)\n",
      "['Unnamed: 0', 'arthritis.type', 'gender', 'bmi', 'diabetes', 'smoke', 'age', 'education', 'marriage', 'physical.activity', 'medical.access', 'blood.pressure', 'healthy.diet', 'covered.health', 'heart.attack']\n"
     ]
    }
   ],
   "source": [
    "data = pd.read_csv('Arthritis_on_heart_attack.csv')\n",
    "print(data.shape)\n",
    "print(list(data.columns))\n",
    "data = data.drop(data.columns[0], axis=1)"
   ]
  },
  {
   "cell_type": "code",
   "execution_count": 3,
   "metadata": {},
   "outputs": [
    {
     "data": {
      "text/html": [
       "<div>\n",
       "<style scoped>\n",
       "    .dataframe tbody tr th:only-of-type {\n",
       "        vertical-align: middle;\n",
       "    }\n",
       "\n",
       "    .dataframe tbody tr th {\n",
       "        vertical-align: top;\n",
       "    }\n",
       "\n",
       "    .dataframe thead th {\n",
       "        text-align: right;\n",
       "    }\n",
       "</style>\n",
       "<table border=\"1\" class=\"dataframe\">\n",
       "  <thead>\n",
       "    <tr style=\"text-align: right;\">\n",
       "      <th></th>\n",
       "      <th>arthritis.type</th>\n",
       "      <th>gender</th>\n",
       "      <th>bmi</th>\n",
       "      <th>diabetes</th>\n",
       "      <th>smoke</th>\n",
       "      <th>age</th>\n",
       "      <th>education</th>\n",
       "      <th>marriage</th>\n",
       "      <th>physical.activity</th>\n",
       "      <th>medical.access</th>\n",
       "      <th>blood.pressure</th>\n",
       "      <th>healthy.diet</th>\n",
       "      <th>covered.health</th>\n",
       "      <th>heart.attack</th>\n",
       "    </tr>\n",
       "  </thead>\n",
       "  <tbody>\n",
       "    <tr>\n",
       "      <th>0</th>\n",
       "      <td>Non-arthritis</td>\n",
       "      <td>Male</td>\n",
       "      <td>(25,80]</td>\n",
       "      <td>No</td>\n",
       "      <td>No</td>\n",
       "      <td>(50,70]</td>\n",
       "      <td>School</td>\n",
       "      <td>Married</td>\n",
       "      <td>Moderate</td>\n",
       "      <td>Yes</td>\n",
       "      <td>No</td>\n",
       "      <td>Fair</td>\n",
       "      <td>No</td>\n",
       "      <td>No</td>\n",
       "    </tr>\n",
       "    <tr>\n",
       "      <th>1</th>\n",
       "      <td>Non-arthritis</td>\n",
       "      <td>Male</td>\n",
       "      <td>(0,25]</td>\n",
       "      <td>No</td>\n",
       "      <td>No</td>\n",
       "      <td>(19.9,50]</td>\n",
       "      <td>High.School</td>\n",
       "      <td>Not.married</td>\n",
       "      <td>No</td>\n",
       "      <td>Yes</td>\n",
       "      <td>No</td>\n",
       "      <td>Good</td>\n",
       "      <td>No</td>\n",
       "      <td>No</td>\n",
       "    </tr>\n",
       "    <tr>\n",
       "      <th>2</th>\n",
       "      <td>Non-arthritis</td>\n",
       "      <td>Male</td>\n",
       "      <td>(25,80]</td>\n",
       "      <td>No</td>\n",
       "      <td>Yes</td>\n",
       "      <td>(50,70]</td>\n",
       "      <td>High.School</td>\n",
       "      <td>Married</td>\n",
       "      <td>No</td>\n",
       "      <td>Yes</td>\n",
       "      <td>Yes</td>\n",
       "      <td>Good</td>\n",
       "      <td>Yes</td>\n",
       "      <td>No</td>\n",
       "    </tr>\n",
       "    <tr>\n",
       "      <th>3</th>\n",
       "      <td>Rheumatoid arthritis</td>\n",
       "      <td>Male</td>\n",
       "      <td>(25,80]</td>\n",
       "      <td>Yes</td>\n",
       "      <td>No</td>\n",
       "      <td>(50,70]</td>\n",
       "      <td>College</td>\n",
       "      <td>Married</td>\n",
       "      <td>No</td>\n",
       "      <td>Yes</td>\n",
       "      <td>Yes</td>\n",
       "      <td>Poor</td>\n",
       "      <td>Yes</td>\n",
       "      <td>No</td>\n",
       "    </tr>\n",
       "    <tr>\n",
       "      <th>4</th>\n",
       "      <td>Non-arthritis</td>\n",
       "      <td>Female</td>\n",
       "      <td>(25,80]</td>\n",
       "      <td>No</td>\n",
       "      <td>No</td>\n",
       "      <td>(19.9,50]</td>\n",
       "      <td>High.School</td>\n",
       "      <td>Married</td>\n",
       "      <td>Moderate</td>\n",
       "      <td>No</td>\n",
       "      <td>No</td>\n",
       "      <td>Fair</td>\n",
       "      <td>No</td>\n",
       "      <td>No</td>\n",
       "    </tr>\n",
       "  </tbody>\n",
       "</table>\n",
       "</div>"
      ],
      "text/plain": [
       "         arthritis.type  gender      bmi diabetes smoke        age  \\\n",
       "0         Non-arthritis    Male  (25,80]       No    No    (50,70]   \n",
       "1         Non-arthritis    Male   (0,25]       No    No  (19.9,50]   \n",
       "2         Non-arthritis    Male  (25,80]       No   Yes    (50,70]   \n",
       "3  Rheumatoid arthritis    Male  (25,80]      Yes    No    (50,70]   \n",
       "4         Non-arthritis  Female  (25,80]       No    No  (19.9,50]   \n",
       "\n",
       "     education     marriage physical.activity medical.access blood.pressure  \\\n",
       "0       School      Married          Moderate            Yes             No   \n",
       "1  High.School  Not.married                No            Yes             No   \n",
       "2  High.School      Married                No            Yes            Yes   \n",
       "3      College      Married                No            Yes            Yes   \n",
       "4  High.School      Married          Moderate             No             No   \n",
       "\n",
       "  healthy.diet covered.health heart.attack  \n",
       "0         Fair             No           No  \n",
       "1         Good             No           No  \n",
       "2         Good            Yes           No  \n",
       "3         Poor            Yes           No  \n",
       "4         Fair             No           No  "
      ]
     },
     "execution_count": 3,
     "metadata": {},
     "output_type": "execute_result"
    }
   ],
   "source": [
    "data.head()"
   ]
  },
  {
   "cell_type": "markdown",
   "metadata": {},
   "source": [
    "Use one-hot-encoding to convert data into binary classes"
   ]
  },
  {
   "cell_type": "code",
   "execution_count": 4,
   "metadata": {},
   "outputs": [],
   "source": [
    "categories = ['arthritis.type', 'heart.attack', 'gender', 'bmi', 'diabetes', 'smoke',\n",
    "          'age', 'education', 'marriage', 'physical.activity', 'medical.access',\n",
    "          'blood.pressure', 'healthy.diet', 'covered.health']\n",
    "for cat in categories:\n",
    "    # get binary categories and join them with original dataframe\n",
    "    binary_cat = pd.get_dummies(data[cat], prefix=cat)\n",
    "    data = data.join(binary_cat)\n",
    "# Drop original impact feature columns and keep preprocessed, binary classes in new dataframe\n",
    "column_names = data.columns.values.tolist()\n",
    "to_keep = [i for i in column_names if i not in categories]\n",
    "df = data[to_keep].copy()"
   ]
  },
  {
   "cell_type": "code",
   "execution_count": 5,
   "metadata": {},
   "outputs": [
    {
     "data": {
      "text/html": [
       "<div>\n",
       "<style scoped>\n",
       "    .dataframe tbody tr th:only-of-type {\n",
       "        vertical-align: middle;\n",
       "    }\n",
       "\n",
       "    .dataframe tbody tr th {\n",
       "        vertical-align: top;\n",
       "    }\n",
       "\n",
       "    .dataframe thead th {\n",
       "        text-align: right;\n",
       "    }\n",
       "</style>\n",
       "<table border=\"1\" class=\"dataframe\">\n",
       "  <thead>\n",
       "    <tr style=\"text-align: right;\">\n",
       "      <th></th>\n",
       "      <th>arthritis.type_Non-arthritis</th>\n",
       "      <th>arthritis.type_Rheumatoid arthritis</th>\n",
       "      <th>heart.attack_No</th>\n",
       "      <th>heart.attack_Yes</th>\n",
       "      <th>gender_Female</th>\n",
       "      <th>gender_Male</th>\n",
       "      <th>bmi_(0,25]</th>\n",
       "      <th>bmi_(25,80]</th>\n",
       "      <th>diabetes_No</th>\n",
       "      <th>diabetes_Yes</th>\n",
       "      <th>...</th>\n",
       "      <th>physical.activity_No</th>\n",
       "      <th>medical.access_No</th>\n",
       "      <th>medical.access_Yes</th>\n",
       "      <th>blood.pressure_No</th>\n",
       "      <th>blood.pressure_Yes</th>\n",
       "      <th>healthy.diet_Fair</th>\n",
       "      <th>healthy.diet_Good</th>\n",
       "      <th>healthy.diet_Poor</th>\n",
       "      <th>covered.health_No</th>\n",
       "      <th>covered.health_Yes</th>\n",
       "    </tr>\n",
       "  </thead>\n",
       "  <tbody>\n",
       "    <tr>\n",
       "      <th>0</th>\n",
       "      <td>1</td>\n",
       "      <td>0</td>\n",
       "      <td>1</td>\n",
       "      <td>0</td>\n",
       "      <td>0</td>\n",
       "      <td>1</td>\n",
       "      <td>0</td>\n",
       "      <td>1</td>\n",
       "      <td>1</td>\n",
       "      <td>0</td>\n",
       "      <td>...</td>\n",
       "      <td>0</td>\n",
       "      <td>0</td>\n",
       "      <td>1</td>\n",
       "      <td>1</td>\n",
       "      <td>0</td>\n",
       "      <td>1</td>\n",
       "      <td>0</td>\n",
       "      <td>0</td>\n",
       "      <td>1</td>\n",
       "      <td>0</td>\n",
       "    </tr>\n",
       "    <tr>\n",
       "      <th>1</th>\n",
       "      <td>1</td>\n",
       "      <td>0</td>\n",
       "      <td>1</td>\n",
       "      <td>0</td>\n",
       "      <td>0</td>\n",
       "      <td>1</td>\n",
       "      <td>1</td>\n",
       "      <td>0</td>\n",
       "      <td>1</td>\n",
       "      <td>0</td>\n",
       "      <td>...</td>\n",
       "      <td>1</td>\n",
       "      <td>0</td>\n",
       "      <td>1</td>\n",
       "      <td>1</td>\n",
       "      <td>0</td>\n",
       "      <td>0</td>\n",
       "      <td>1</td>\n",
       "      <td>0</td>\n",
       "      <td>1</td>\n",
       "      <td>0</td>\n",
       "    </tr>\n",
       "    <tr>\n",
       "      <th>2</th>\n",
       "      <td>1</td>\n",
       "      <td>0</td>\n",
       "      <td>1</td>\n",
       "      <td>0</td>\n",
       "      <td>0</td>\n",
       "      <td>1</td>\n",
       "      <td>0</td>\n",
       "      <td>1</td>\n",
       "      <td>1</td>\n",
       "      <td>0</td>\n",
       "      <td>...</td>\n",
       "      <td>1</td>\n",
       "      <td>0</td>\n",
       "      <td>1</td>\n",
       "      <td>0</td>\n",
       "      <td>1</td>\n",
       "      <td>0</td>\n",
       "      <td>1</td>\n",
       "      <td>0</td>\n",
       "      <td>0</td>\n",
       "      <td>1</td>\n",
       "    </tr>\n",
       "    <tr>\n",
       "      <th>3</th>\n",
       "      <td>0</td>\n",
       "      <td>1</td>\n",
       "      <td>1</td>\n",
       "      <td>0</td>\n",
       "      <td>0</td>\n",
       "      <td>1</td>\n",
       "      <td>0</td>\n",
       "      <td>1</td>\n",
       "      <td>0</td>\n",
       "      <td>1</td>\n",
       "      <td>...</td>\n",
       "      <td>1</td>\n",
       "      <td>0</td>\n",
       "      <td>1</td>\n",
       "      <td>0</td>\n",
       "      <td>1</td>\n",
       "      <td>0</td>\n",
       "      <td>0</td>\n",
       "      <td>1</td>\n",
       "      <td>0</td>\n",
       "      <td>1</td>\n",
       "    </tr>\n",
       "    <tr>\n",
       "      <th>4</th>\n",
       "      <td>1</td>\n",
       "      <td>0</td>\n",
       "      <td>1</td>\n",
       "      <td>0</td>\n",
       "      <td>1</td>\n",
       "      <td>0</td>\n",
       "      <td>0</td>\n",
       "      <td>1</td>\n",
       "      <td>1</td>\n",
       "      <td>0</td>\n",
       "      <td>...</td>\n",
       "      <td>0</td>\n",
       "      <td>1</td>\n",
       "      <td>0</td>\n",
       "      <td>1</td>\n",
       "      <td>0</td>\n",
       "      <td>1</td>\n",
       "      <td>0</td>\n",
       "      <td>0</td>\n",
       "      <td>1</td>\n",
       "      <td>0</td>\n",
       "    </tr>\n",
       "  </tbody>\n",
       "</table>\n",
       "<p>5 rows × 32 columns</p>\n",
       "</div>"
      ],
      "text/plain": [
       "   arthritis.type_Non-arthritis  arthritis.type_Rheumatoid arthritis  \\\n",
       "0                             1                                    0   \n",
       "1                             1                                    0   \n",
       "2                             1                                    0   \n",
       "3                             0                                    1   \n",
       "4                             1                                    0   \n",
       "\n",
       "   heart.attack_No  heart.attack_Yes  gender_Female  gender_Male  bmi_(0,25]  \\\n",
       "0                1                 0              0            1           0   \n",
       "1                1                 0              0            1           1   \n",
       "2                1                 0              0            1           0   \n",
       "3                1                 0              0            1           0   \n",
       "4                1                 0              1            0           0   \n",
       "\n",
       "   bmi_(25,80]  diabetes_No  diabetes_Yes  ...  physical.activity_No  \\\n",
       "0            1            1             0  ...                     0   \n",
       "1            0            1             0  ...                     1   \n",
       "2            1            1             0  ...                     1   \n",
       "3            1            0             1  ...                     1   \n",
       "4            1            1             0  ...                     0   \n",
       "\n",
       "   medical.access_No  medical.access_Yes  blood.pressure_No  \\\n",
       "0                  0                   1                  1   \n",
       "1                  0                   1                  1   \n",
       "2                  0                   1                  0   \n",
       "3                  0                   1                  0   \n",
       "4                  1                   0                  1   \n",
       "\n",
       "   blood.pressure_Yes  healthy.diet_Fair  healthy.diet_Good  \\\n",
       "0                   0                  1                  0   \n",
       "1                   0                  0                  1   \n",
       "2                   1                  0                  1   \n",
       "3                   1                  0                  0   \n",
       "4                   0                  1                  0   \n",
       "\n",
       "   healthy.diet_Poor  covered.health_No  covered.health_Yes  \n",
       "0                  0                  1                   0  \n",
       "1                  0                  1                   0  \n",
       "2                  0                  0                   1  \n",
       "3                  1                  0                   1  \n",
       "4                  0                  1                   0  \n",
       "\n",
       "[5 rows x 32 columns]"
      ]
     },
     "execution_count": 5,
     "metadata": {},
     "output_type": "execute_result"
    }
   ],
   "source": [
    "df.head()"
   ]
  },
  {
   "cell_type": "markdown",
   "metadata": {},
   "source": [
    "Select only the impact features from the dataset for the X-data, and take the arthritis.type as y-data.\n",
    "Heart.attack data should not be considered for this model, since we want to know the effect of the other parameters on heart attacks."
   ]
  },
  {
   "cell_type": "code",
   "execution_count": 6,
   "metadata": {},
   "outputs": [],
   "source": [
    "X = df.copy()\n",
    "drop_columns = ['heart.attack_No' , 'heart.attack_Yes', 'arthritis.type_Non-arthritis',\n",
    "                'arthritis.type_Rheumatoid arthritis']\n",
    "X = X.drop(drop_columns , axis='columns')\n",
    "y = df.loc[:, df.columns == 'arthritis.type_Rheumatoid arthritis']"
   ]
  },
  {
   "cell_type": "code",
   "execution_count": 7,
   "metadata": {},
   "outputs": [
    {
     "data": {
      "text/plain": [
       "Non-arthritis           3544\n",
       "Rheumatoid arthritis     244\n",
       "Name: arthritis.type, dtype: int64"
      ]
     },
     "execution_count": 7,
     "metadata": {},
     "output_type": "execute_result"
    }
   ],
   "source": [
    "data['arthritis.type'].value_counts()"
   ]
  },
  {
   "cell_type": "markdown",
   "metadata": {},
   "source": [
    "There are many more data points of the Non-arthritis class, therefore we will have to use class-weights."
   ]
  },
  {
   "cell_type": "code",
   "execution_count": 8,
   "metadata": {},
   "outputs": [
    {
     "data": {
      "text/plain": [
       "LogisticRegression(class_weight='balanced')"
      ]
     },
     "execution_count": 8,
     "metadata": {},
     "output_type": "execute_result"
    }
   ],
   "source": [
    "from sklearn.linear_model import LogisticRegression\n",
    "from sklearn import metrics\n",
    "X_train, X_test, y_train, y_test = train_test_split(X, y, test_size=0.2, random_state=0)\n",
    "logreg = LogisticRegression(class_weight=\"balanced\")\n",
    "logreg.fit(X_train, y_train.values.ravel())"
   ]
  },
  {
   "cell_type": "code",
   "execution_count": 9,
   "metadata": {},
   "outputs": [
    {
     "name": "stdout",
     "output_type": "stream",
     "text": [
      "Accuracy of logistic regression classifier on test set: 0.68\n"
     ]
    }
   ],
   "source": [
    "y_pred = logreg.predict(X_test)\n",
    "print('Accuracy of logistic regression classifier on test set: {:.2f}'.format(logreg.score(X_test, y_test)))"
   ]
  },
  {
   "cell_type": "code",
   "execution_count": 10,
   "metadata": {},
   "outputs": [
    {
     "name": "stdout",
     "output_type": "stream",
     "text": [
      "[[478 232]\n",
      " [ 13  35]]\n"
     ]
    }
   ],
   "source": [
    "confusion_matrix = metrics.confusion_matrix(y_test, y_pred)\n",
    "print(confusion_matrix)"
   ]
  },
  {
   "cell_type": "markdown",
   "metadata": {},
   "source": [
    "The majority of cases of each class are predicted correctly (478 and 35)"
   ]
  },
  {
   "cell_type": "markdown",
   "metadata": {},
   "source": [
    "## Task 1: Compute Propensity Scores"
   ]
  },
  {
   "cell_type": "markdown",
   "metadata": {},
   "source": [
    "In this case the propensity score is the predicted probability of a patient to have Rheumatoid Arthritis based on the impact features. Use the logistic regression model to predict the output values of the model provided X."
   ]
  },
  {
   "cell_type": "code",
   "execution_count": 11,
   "metadata": {},
   "outputs": [],
   "source": [
    "# predict_proba returns list of two values, the probability of the prediction being negative or positive\n",
    "propensity_scores = logreg.predict_proba(X)[:,1] "
   ]
  },
  {
   "cell_type": "markdown",
   "metadata": {},
   "source": [
    "Add propensity scores to dataset:"
   ]
  },
  {
   "cell_type": "code",
   "execution_count": 12,
   "metadata": {},
   "outputs": [],
   "source": [
    "df.loc[:,'propensity_score'] = propensity_scores"
   ]
  },
  {
   "cell_type": "markdown",
   "metadata": {},
   "source": [
    "Setting the caliper to 0.2 of the standard deviation of the logit of the propensity score."
   ]
  },
  {
   "cell_type": "code",
   "execution_count": 13,
   "metadata": {},
   "outputs": [
    {
     "name": "stdout",
     "output_type": "stream",
     "text": [
      "0.22353609947927106\n"
     ]
    }
   ],
   "source": [
    "from scipy.special import logit\n",
    "from numpy import std\n",
    "\n",
    "caliper = 0.2 * std(logit(df['propensity_score']))\n",
    "print(caliper)"
   ]
  },
  {
   "cell_type": "markdown",
   "metadata": {},
   "source": [
    "## Task 2: Matching"
   ]
  },
  {
   "cell_type": "markdown",
   "metadata": {},
   "source": [
    "Splitting the dataset into patients with RA and non-RA and saving those as new dataframes.\n",
    "Creating a copy of those dataframes which represent the datasets pre-matching.\n",
    "Add another empty column to each dataset for partner-ID for the matching."
   ]
  },
  {
   "cell_type": "code",
   "execution_count": 14,
   "metadata": {},
   "outputs": [],
   "source": [
    "treatment_group = df.loc[df['arthritis.type_Rheumatoid arthritis'] == 1].copy()\n",
    "control_group = df.loc[df['arthritis.type_Non-arthritis'] == 1].copy()\n",
    "treatment_group_prematch = treatment_group.copy()\n",
    "control_group_prematch = control_group.copy()\n",
    "treatment_group['partner'] = [None] * len(treatment_group.index)\n",
    "control_group['partner'] = [None] * len(control_group.index)"
   ]
  },
  {
   "cell_type": "markdown",
   "metadata": {},
   "source": [
    "Matching function to find a matching partner for the treatment group patients in the control group."
   ]
  },
  {
   "cell_type": "code",
   "execution_count": 15,
   "metadata": {},
   "outputs": [],
   "source": [
    "def match():\n",
    "    # for each patient in the treatment group\n",
    "    for t_index, t_row in treatment_group.iterrows():\n",
    "        # look at every patient in the control group\n",
    "        for c_index, c_row in control_group.iterrows():\n",
    "            # if the propensity score is similar enough and the control patient has no partner:\n",
    "            if abs(t_row['propensity_score'] - c_row['propensity_score']) < caliper:\n",
    "                if c_row['partner'] == None:\n",
    "                    # assign them as partners and go to next treatment patient\n",
    "                    treatment_group.at[t_index, 'partner'] = c_index\n",
    "                    control_group.at[c_index, 'partner'] = t_index\n",
    "                    break"
   ]
  },
  {
   "cell_type": "code",
   "execution_count": 16,
   "metadata": {},
   "outputs": [],
   "source": [
    "match()"
   ]
  },
  {
   "cell_type": "markdown",
   "metadata": {},
   "source": [
    "Remove those that did not find a partner."
   ]
  },
  {
   "cell_type": "code",
   "execution_count": 17,
   "metadata": {},
   "outputs": [],
   "source": [
    "treatment_group = treatment_group[treatment_group['partner'].notnull()]\n",
    "control_group = control_group[control_group['partner'].notnull()]"
   ]
  },
  {
   "cell_type": "markdown",
   "metadata": {},
   "source": [
    "Check if the control group and treatment group are of the same size"
   ]
  },
  {
   "cell_type": "code",
   "execution_count": 18,
   "metadata": {},
   "outputs": [
    {
     "data": {
      "text/plain": [
       "True"
      ]
     },
     "execution_count": 18,
     "metadata": {},
     "output_type": "execute_result"
    }
   ],
   "source": [
    "len(control_group.index) == len(treatment_group.index)"
   ]
  },
  {
   "cell_type": "markdown",
   "metadata": {},
   "source": [
    "## Task 3: Visualize Propensity Scores"
   ]
  },
  {
   "cell_type": "markdown",
   "metadata": {},
   "source": [
    "Plot the number of propensity scores in intervals.\n",
    "\n",
    "Before matching:"
   ]
  },
  {
   "cell_type": "code",
   "execution_count": 19,
   "metadata": {},
   "outputs": [
    {
     "data": {
      "text/plain": [
       "(0.0, 2.5)"
      ]
     },
     "execution_count": 19,
     "metadata": {},
     "output_type": "execute_result"
    },
    {
     "data": {
      "image/png": "[encoded data removed]",
      "text/plain": [
       "<Figure size 432x288 with 1 Axes>"
      ]
     },
     "metadata": {
      "needs_background": "light"
     },
     "output_type": "display_data"
    }
   ],
   "source": [
    "sns.distplot(treatment_group_prematch['propensity_score'] , color=\"red\")\n",
    "sns.distplot(control_group_prematch['propensity_score'] , color=\"skyblue\")\n",
    "plt.xlim(0, 1.0)\n",
    "plt.ylim(0, 2.5)"
   ]
  },
  {
   "cell_type": "markdown",
   "metadata": {},
   "source": [
    "After matching:"
   ]
  },
  {
   "cell_type": "code",
   "execution_count": 20,
   "metadata": {},
   "outputs": [
    {
     "data": {
      "text/plain": [
       "(0.0, 2.5)"
      ]
     },
     "execution_count": 20,
     "metadata": {},
     "output_type": "execute_result"
    },
    {
     "data": {
      "image/png": "[encoded data removed]",
      "text/plain": [
       "<Figure size 432x288 with 1 Axes>"
      ]
     },
     "metadata": {
      "needs_background": "light"
     },
     "output_type": "display_data"
    }
   ],
   "source": [
    "sns.distplot(treatment_group['propensity_score'] , color=\"red\")\n",
    "sns.distplot(control_group['propensity_score'] , color=\"skyblue\")\n",
    "plt.xlim(0, 1.0)\n",
    "plt.ylim(0, 2.5)"
   ]
  },
  {
   "cell_type": "markdown",
   "metadata": {},
   "source": [
    "After matching, the propensity scores of the control group became more similar to those of the treatment group."
   ]
  },
  {
   "cell_type": "markdown",
   "metadata": {},
   "source": [
    "## Task 4: Balance Table of Average Feature Values"
   ]
  },
  {
   "cell_type": "markdown",
   "metadata": {},
   "source": [
    "The coefficients of the Logistic Regression model can be used to find the features, that have the most influence on the predicted class. Positive values will contribute to the prediction of RA, whereas negative values contribute to non-RA."
   ]
  },
  {
   "cell_type": "code",
   "execution_count": 21,
   "metadata": {},
   "outputs": [
    {
     "data": {
      "image/png": "[encoded data removed]",
      "text/plain": [
       "<Figure size 432x288 with 1 Axes>"
      ]
     },
     "metadata": {
      "needs_background": "light"
     },
     "output_type": "display_data"
    }
   ],
   "source": [
    "coefficients = logreg.coef_[0]\n",
    "\n",
    "# Plot the influence of the features on the prediction\n",
    "plt.bar([x for x in range(len(coefficients))], coefficients)\n",
    "\n",
    "# Convert the list of coefficients to a dict with their list index as key\n",
    "dict_coef_indices = {i: coef for i, coef in enumerate(coefficients)}\n",
    "\n",
    "# Selecting the 5 most influencial features for RA and non-RA respectively\n",
    "coef_RA = sorted(dict_coef_indices, key=dict_coef_indices.get, reverse=True)[:5]\n",
    "coef_non_RA = sorted(dict_coef_indices, key=dict_coef_indices.get, reverse=False)[:5]"
   ]
  },
  {
   "cell_type": "code",
   "execution_count": 22,
   "metadata": {},
   "outputs": [],
   "source": [
    "# Function for plotting a table using a list of coefficient indices\n",
    "def create_coefficient_table(coef_indices):\n",
    "    columns = ['Label', 'Control group prematch', 'Control group postmatch', 'Treatment group']\n",
    "    table_data = []\n",
    "    for index in coef_indices:\n",
    "        row = []\n",
    "        label = X.columns[index]\n",
    "        row.append(label)\n",
    "        # Compute the average of values for the particular feature for each group\n",
    "        row.append(\"{:.3f}\".format(control_group_prematch[label].mean()))\n",
    "        row.append(\"{:.3f}\".format(control_group[label].mean()))\n",
    "        row.append(\"{:.3f}\".format(treatment_group[label].mean()))\n",
    "        table_data.append(row)\n",
    "    df_coef = pd.DataFrame(table_data, columns=columns)\n",
    "    df_coef.index += 1\n",
    "    return df_coef"
   ]
  },
  {
   "cell_type": "markdown",
   "metadata": {},
   "source": [
    "Contribute to RA prediction:"
   ]
  },
  {
   "cell_type": "code",
   "execution_count": 23,
   "metadata": {},
   "outputs": [
    {
     "data": {
      "text/html": [
       "<div>\n",
       "<style scoped>\n",
       "    .dataframe tbody tr th:only-of-type {\n",
       "        vertical-align: middle;\n",
       "    }\n",
       "\n",
       "    .dataframe tbody tr th {\n",
       "        vertical-align: top;\n",
       "    }\n",
       "\n",
       "    .dataframe thead th {\n",
       "        text-align: right;\n",
       "    }\n",
       "</style>\n",
       "<table border=\"1\" class=\"dataframe\">\n",
       "  <thead>\n",
       "    <tr style=\"text-align: right;\">\n",
       "      <th></th>\n",
       "      <th>Label</th>\n",
       "      <th>Control group prematch</th>\n",
       "      <th>Control group postmatch</th>\n",
       "      <th>Treatment group</th>\n",
       "    </tr>\n",
       "  </thead>\n",
       "  <tbody>\n",
       "    <tr>\n",
       "      <th>1</th>\n",
       "      <td>age_(50,70]</td>\n",
       "      <td>0.252</td>\n",
       "      <td>0.398</td>\n",
       "      <td>0.520</td>\n",
       "    </tr>\n",
       "    <tr>\n",
       "      <th>2</th>\n",
       "      <td>age_(70,81]</td>\n",
       "      <td>0.106</td>\n",
       "      <td>0.148</td>\n",
       "      <td>0.217</td>\n",
       "    </tr>\n",
       "    <tr>\n",
       "      <th>3</th>\n",
       "      <td>blood.pressure_Yes</td>\n",
       "      <td>0.259</td>\n",
       "      <td>0.352</td>\n",
       "      <td>0.566</td>\n",
       "    </tr>\n",
       "    <tr>\n",
       "      <th>4</th>\n",
       "      <td>medical.access_Yes</td>\n",
       "      <td>0.813</td>\n",
       "      <td>0.873</td>\n",
       "      <td>0.951</td>\n",
       "    </tr>\n",
       "    <tr>\n",
       "      <th>5</th>\n",
       "      <td>healthy.diet_Poor</td>\n",
       "      <td>0.054</td>\n",
       "      <td>0.057</td>\n",
       "      <td>0.094</td>\n",
       "    </tr>\n",
       "  </tbody>\n",
       "</table>\n",
       "</div>"
      ],
      "text/plain": [
       "                Label Control group prematch Control group postmatch  \\\n",
       "1         age_(50,70]                  0.252                   0.398   \n",
       "2         age_(70,81]                  0.106                   0.148   \n",
       "3  blood.pressure_Yes                  0.259                   0.352   \n",
       "4  medical.access_Yes                  0.813                   0.873   \n",
       "5   healthy.diet_Poor                  0.054                   0.057   \n",
       "\n",
       "  Treatment group  \n",
       "1           0.520  \n",
       "2           0.217  \n",
       "3           0.566  \n",
       "4           0.951  \n",
       "5           0.094  "
      ]
     },
     "execution_count": 23,
     "metadata": {},
     "output_type": "execute_result"
    }
   ],
   "source": [
    "create_coefficient_table(coef_RA)"
   ]
  },
  {
   "cell_type": "markdown",
   "metadata": {},
   "source": [
    "Contribute to non-RA prediction:"
   ]
  },
  {
   "cell_type": "code",
   "execution_count": 24,
   "metadata": {
    "scrolled": true
   },
   "outputs": [
    {
     "data": {
      "text/html": [
       "<div>\n",
       "<style scoped>\n",
       "    .dataframe tbody tr th:only-of-type {\n",
       "        vertical-align: middle;\n",
       "    }\n",
       "\n",
       "    .dataframe tbody tr th {\n",
       "        vertical-align: top;\n",
       "    }\n",
       "\n",
       "    .dataframe thead th {\n",
       "        text-align: right;\n",
       "    }\n",
       "</style>\n",
       "<table border=\"1\" class=\"dataframe\">\n",
       "  <thead>\n",
       "    <tr style=\"text-align: right;\">\n",
       "      <th></th>\n",
       "      <th>Label</th>\n",
       "      <th>Control group prematch</th>\n",
       "      <th>Control group postmatch</th>\n",
       "      <th>Treatment group</th>\n",
       "    </tr>\n",
       "  </thead>\n",
       "  <tbody>\n",
       "    <tr>\n",
       "      <th>1</th>\n",
       "      <td>age_(19.9,50]</td>\n",
       "      <td>0.642</td>\n",
       "      <td>0.455</td>\n",
       "      <td>0.262</td>\n",
       "    </tr>\n",
       "    <tr>\n",
       "      <th>2</th>\n",
       "      <td>healthy.diet_Good</td>\n",
       "      <td>0.714</td>\n",
       "      <td>0.734</td>\n",
       "      <td>0.656</td>\n",
       "    </tr>\n",
       "    <tr>\n",
       "      <th>3</th>\n",
       "      <td>blood.pressure_No</td>\n",
       "      <td>0.741</td>\n",
       "      <td>0.648</td>\n",
       "      <td>0.434</td>\n",
       "    </tr>\n",
       "    <tr>\n",
       "      <th>4</th>\n",
       "      <td>medical.access_No</td>\n",
       "      <td>0.187</td>\n",
       "      <td>0.127</td>\n",
       "      <td>0.049</td>\n",
       "    </tr>\n",
       "    <tr>\n",
       "      <th>5</th>\n",
       "      <td>diabetes_Yes</td>\n",
       "      <td>0.084</td>\n",
       "      <td>0.115</td>\n",
       "      <td>0.115</td>\n",
       "    </tr>\n",
       "  </tbody>\n",
       "</table>\n",
       "</div>"
      ],
      "text/plain": [
       "               Label Control group prematch Control group postmatch  \\\n",
       "1      age_(19.9,50]                  0.642                   0.455   \n",
       "2  healthy.diet_Good                  0.714                   0.734   \n",
       "3  blood.pressure_No                  0.741                   0.648   \n",
       "4  medical.access_No                  0.187                   0.127   \n",
       "5       diabetes_Yes                  0.084                   0.115   \n",
       "\n",
       "  Treatment group  \n",
       "1           0.262  \n",
       "2           0.656  \n",
       "3           0.434  \n",
       "4           0.049  \n",
       "5           0.115  "
      ]
     },
     "execution_count": 24,
     "metadata": {},
     "output_type": "execute_result"
    }
   ],
   "source": [
    "create_coefficient_table(coef_non_RA)"
   ]
  },
  {
   "cell_type": "markdown",
   "metadata": {},
   "source": [
    "Most of the features that were selected as influencial make sense, such as old age and poor diet contributing to RA. However, some do not make sense in the context, such as medical access contributing to RA, or diabetes contributing to non-RA.\n",
    "\n",
    "In 9 out of 10 cases considered, the average value of the features of the control group became closer to the treatment group after the matching was done."
   ]
  },
  {
   "cell_type": "markdown",
   "metadata": {},
   "source": [
    "## Step 5: Visualize Heart Attack Rates"
   ]
  },
  {
   "cell_type": "code",
   "execution_count": 25,
   "metadata": {},
   "outputs": [
    {
     "data": {
      "text/html": [
       "<div>\n",
       "<style scoped>\n",
       "    .dataframe tbody tr th:only-of-type {\n",
       "        vertical-align: middle;\n",
       "    }\n",
       "\n",
       "    .dataframe tbody tr th {\n",
       "        vertical-align: top;\n",
       "    }\n",
       "\n",
       "    .dataframe thead th {\n",
       "        text-align: right;\n",
       "    }\n",
       "</style>\n",
       "<table border=\"1\" class=\"dataframe\">\n",
       "  <thead>\n",
       "    <tr style=\"text-align: right;\">\n",
       "      <th></th>\n",
       "      <th>No HA</th>\n",
       "      <th>HA</th>\n",
       "    </tr>\n",
       "  </thead>\n",
       "  <tbody>\n",
       "    <tr>\n",
       "      <th>RA</th>\n",
       "      <td>224</td>\n",
       "      <td>20</td>\n",
       "    </tr>\n",
       "    <tr>\n",
       "      <th>non RA</th>\n",
       "      <td>238</td>\n",
       "      <td>6</td>\n",
       "    </tr>\n",
       "  </tbody>\n",
       "</table>\n",
       "</div>"
      ],
      "text/plain": [
       "        No HA  HA\n",
       "RA        224  20\n",
       "non RA    238   6"
      ]
     },
     "execution_count": 25,
     "metadata": {},
     "output_type": "execute_result"
    }
   ],
   "source": [
    "# Count the number of heart attacks or no heart attacks in both groups, classes are in [0], counts in [1]\n",
    "HA_RA = np.unique(treatment_group['heart.attack_Yes'], return_counts=True)\n",
    "HA_non_RA = np.unique(control_group['heart.attack_Yes'], return_counts=True)\n",
    "\n",
    "HA = pd.DataFrame({'RA': HA_RA[1], 'non RA': HA_non_RA[1]},\n",
    "                  index=['No HA', 'HA'])\n",
    "HA.T # Transpose to invert axis in table"
   ]
  },
  {
   "cell_type": "code",
   "execution_count": 26,
   "metadata": {},
   "outputs": [
    {
     "data": {
      "text/plain": [
       "<AxesSubplot:ylabel='RA'>"
      ]
     },
     "execution_count": 26,
     "metadata": {},
     "output_type": "execute_result"
    },
    {
     "data": {
      "image/png": "[encoded data removed]",
      "text/plain": [
       "<Figure size 360x360 with 1 Axes>"
      ]
     },
     "metadata": {},
     "output_type": "display_data"
    }
   ],
   "source": [
    "HA.plot.pie(y='RA', figsize=(5, 5), labels=None)"
   ]
  },
  {
   "cell_type": "code",
   "execution_count": 27,
   "metadata": {},
   "outputs": [
    {
     "data": {
      "text/plain": [
       "<AxesSubplot:ylabel='non RA'>"
      ]
     },
     "execution_count": 27,
     "metadata": {},
     "output_type": "execute_result"
    },
    {
     "data": {
      "image/png": "[encoded data removed]",
      "text/plain": [
       "<Figure size 360x360 with 1 Axes>"
      ]
     },
     "metadata": {},
     "output_type": "display_data"
    }
   ],
   "source": [
    "HA.plot.pie(y='non RA', figsize=(5, 5), labels=None)"
   ]
  },
  {
   "cell_type": "markdown",
   "metadata": {},
   "source": [
    "### Considering this dataset;  patients with similar risk factors, which were selected by matching them with partners who have a propensity score difference within a defined caliper value, had a higher rate of heart attacks if they have Rheumatoid Arthritis as opposed to having no Rheumatoid Arthritis. Therefore, according to this model, RA would increase the risk of having a heart attack."
   ]
  }
 ],
 "metadata": {
  "kernelspec": {
   "display_name": "Python 3",
   "language": "python",
   "name": "python3"
  },
  "language_info": {
   "codemirror_mode": {
    "name": "ipython",
    "version": 3
   },
   "file_extension": ".py",
   "mimetype": "text/x-python",
   "name": "python",
   "nbconvert_exporter": "python",
   "pygments_lexer": "ipython3",
   "version": "3.8.2"
  }
 },
 "nbformat": 4,
 "nbformat_minor": 4
}
